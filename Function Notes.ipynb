{
 "cells": [
  {
   "cell_type": "markdown",
   "metadata": {},
   "source": [
    "Generic Import: from math import function <br>\n",
    "Function Import: from math import sqrt <br>\n",
    "Universal Import: from math import *"
   ]
  },
  {
   "cell_type": "code",
   "execution_count": 17,
   "metadata": {
    "collapsed": false
   },
   "outputs": [
    {
     "data": {
      "text/plain": [
       "'Shutdown aborted'"
      ]
     },
     "execution_count": 17,
     "metadata": {},
     "output_type": "execute_result"
    }
   ],
   "source": [
    "def shut_down(user_input):\n",
    "    user_input = user_input.lower()\n",
    "    if user_input == \"yes\":\n",
    "        return \"Shutting down\"\n",
    "    elif user_input == \"no\":\n",
    "        return \"Shutdown aborted\"\n",
    "    else:\n",
    "        return \"Sorry\"\n",
    "    \n",
    "shut_down(\"no\")"
   ]
  },
  {
   "cell_type": "code",
   "execution_count": 21,
   "metadata": {
    "collapsed": false
   },
   "outputs": [
    {
     "data": {
      "text/plain": [
       "3.0"
      ]
     },
     "execution_count": 21,
     "metadata": {},
     "output_type": "execute_result"
    }
   ],
   "source": [
    "from math import *\n",
    "sqrt(9)"
   ]
  },
  {
   "cell_type": "markdown",
   "metadata": {},
   "source": [
    "finding abs | abs is always positive |"
   ]
  },
  {
   "cell_type": "code",
   "execution_count": 24,
   "metadata": {
    "collapsed": false
   },
   "outputs": [
    {
     "data": {
      "text/plain": [
       "22"
      ]
     },
     "execution_count": 24,
     "metadata": {},
     "output_type": "execute_result"
    }
   ],
   "source": [
    "def distance_from_zero(alpha):\n",
    "    if type(alpha) == int or type(alpha) == float:\n",
    "        return abs(alpha)\n",
    "    else:\n",
    "        return \"Nope\"\n",
    "distance_from_zero(-22)"
   ]
  },
  {
   "cell_type": "markdown",
   "metadata": {},
   "source": [
    "Vacation Cost Calculator"
   ]
  },
  {
   "cell_type": "code",
   "execution_count": 26,
   "metadata": {
    "collapsed": false
   },
   "outputs": [
    {
     "name": "stdout",
     "output_type": "stream",
     "text": [
      "1955\n"
     ]
    }
   ],
   "source": [
    "def hotel_cost(nights):\n",
    "    return 140 * nights\n",
    "def plane_ride_cost(city):\n",
    "    if city == \"Charlotte\":\n",
    "        return 183\n",
    "    elif city == \"Tampa\":\n",
    "        return 220\n",
    "    elif city == \"Pittsburgh\":\n",
    "        return 222\n",
    "    elif city == \"Los Angeles\":\n",
    "        return 475\n",
    "def rental_car_cost(days):\n",
    "    cost = 40*days\n",
    "    if days >= 7:\n",
    "        cost -= 50\n",
    "    elif days >= 3:\n",
    "        cost -= 20\n",
    "    return cost\n",
    "    \n",
    "def trip_cost(city, days, spending_money):\n",
    "    return hotel_cost(days) + plane_ride_cost(city) + rental_car_cost(days) + spending_money\n",
    "    \n",
    "print trip_cost(\"Los Angeles\", 5, 600)"
   ]
  },
  {
   "cell_type": "code",
   "execution_count": null,
   "metadata": {
    "collapsed": true
   },
   "outputs": [],
   "source": []
  }
 ],
 "metadata": {
  "kernelspec": {
   "display_name": "Python 2",
   "language": "python",
   "name": "python2"
  },
  "language_info": {
   "codemirror_mode": {
    "name": "ipython",
    "version": 2
   },
   "file_extension": ".py",
   "mimetype": "text/x-python",
   "name": "python",
   "nbconvert_exporter": "python",
   "pygments_lexer": "ipython2",
   "version": "2.7.10"
  }
 },
 "nbformat": 4,
 "nbformat_minor": 0
}
