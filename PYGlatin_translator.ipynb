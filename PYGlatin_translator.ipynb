{
 "cells": [
  {
   "cell_type": "code",
   "execution_count": 29,
   "metadata": {
    "collapsed": false
   },
   "outputs": [
    {
     "name": "stdout",
     "output_type": "stream",
     "text": [
      "Enter a word: tenzin\n",
      "enzintay\n"
     ]
    }
   ],
   "source": [
    "pyg = 'ay'\n",
    "\n",
    "original = raw_input('Enter a word: ')\n",
    "\n",
    "if len(original) > 0 and original.isalpha():\n",
    "    word = original.lower()\n",
    "    first = word[0]\n",
    "    new_word = original[1:len(word)] + word[0] + pyg\n",
    "    print new_word\n",
    "\n",
    "else:\n",
    "    print 'empty'\n"
   ]
  },
  {
   "cell_type": "code",
   "execution_count": null,
   "metadata": {
    "collapsed": true
   },
   "outputs": [],
   "source": []
  }
 ],
 "metadata": {
  "kernelspec": {
   "display_name": "Python 2",
   "language": "python",
   "name": "python2"
  },
  "language_info": {
   "codemirror_mode": {
    "name": "ipython",
    "version": 2
   },
   "file_extension": ".py",
   "mimetype": "text/x-python",
   "name": "python",
   "nbconvert_exporter": "python",
   "pygments_lexer": "ipython2",
   "version": "2.7.10"
  }
 },
 "nbformat": 4,
 "nbformat_minor": 0
}
